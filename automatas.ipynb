{
 "cells": [
  {
   "cell_type": "markdown",
   "metadata": {},
   "source": [
    "\n",
    "### __I.1 Fundamentos Básicos de Python__\n",
    "Python es un lenguaje de scripting de alto nivel orientado a objetos. Fue creado por Guido van Rossum y liberado en 1991. Fue diseñado pensando el la \"leibilidad\" del código, tiendo una similitud al lenguaje Inglés, con una sintaxis que permite a los programadores expresear conceptos en pocas líneas de código. Permite trabajar rápidadmente e integrar sistemas más eficientemente. Existen dos versiones de Python: Python 2.x y Python 3.x, ambas versisones son diferentes. En este diplomado se hace uso de Python 3.x. \n",
    "\n",
    "#### __Sintaxis__\n",
    "<p align = \"justify\">\n",
    "Los programas en python pueden ser escritos en cualquier editor de texto o entornos de desarrollo específicos para Python, éstos son guardados con la extensión .py. Éstos no requieren una linea inicial. Pueden ser ejecutados desde una linea de comandos **python file.py**. No se utilizan llaves {} o puntos y coma ;  En lugar de los llaves los bloques son identificados teniendo la misma identación. Éste no cuenta con una función principal definida por defecto, pero por convención se recomienda definirla y mandarla llamar primeramente. A continuación se presenta un plantilla básica de un script de python a través del típico \"Hola Mundo\".\n",
    "</p>"
   ]
  },
  {
   "cell_type": "code",
   "execution_count": 1,
   "metadata": {},
   "outputs": [
    {
     "name": "stdout",
     "output_type": "stream",
     "text": [
      "Hola mundo\n"
     ]
    }
   ],
   "source": [
    "print(\"Hola mundo\")\n"
   ]
  },
  {
   "cell_type": "markdown",
   "metadata": {},
   "source": [
    "Como se puede observar la sentencia \n",
    "```python\n",
    "if __nam__ == \"__main__\": \n",
    "    main()\n",
    "```\n",
    "asegura que el código en el bloque if se ejecute solo cuando el archivo en el que se encuentra es ejecutado directamente. Esto es, cada archivo de python (modulo) obtiene un atributo especial llamado ``` __name__```, el cual regrese el nombre del módulo. Si el modulo es ejecutado como el programa principal, el interprete asignará el estring ``` __main__ ``` a la variable ``` __name__ ```. Si la condición se cumple, entonces se manda llamar y ejecutar el código dentro de este a través de una funcion la cual se llamó en este caso ``` main ```. Si el módulo no es ejecutado como programa principal, sino que es importado desde otro módulo, el atributo ``` __name__ ``` pasa a contener el nombre del archivo en si."
   ]
  },
  {
   "cell_type": "markdown",
   "metadata": {},
   "source": [
    "#### __Variables y Tipos de Datos__\n",
    "<p align = \"justify\">\n",
    "Las Variables en Python sigue la nomenclatura estándar alfanumerica comenzando por una letra o un guión bajo . Son sensibles al uso de mayúscualas y minúsculas. Éstas no necesitan ser declaradas y los tipos de datos se infieren a través del valor asignado. Los tipos de datos compuestos estándar se pueden clasificar como los dos siguientes:\n",
    "<ul>\n",
    "<li>Mutable: su contenido (o dicho valor) puede cambiarse en tiempo de ejecución.</li>\n",
    "<li>Inmutable: su contenido (o dicho valor) no puede cambiarse en tiempo de ejecución.</li>    \n",
    "</ul>\n",
    "A continuación se muestra una lista de los tipos que están integrados en Python. Se pueden resumir los tipos de datos compuestos estándar en la siguiente tabla:\n",
    "</p>\n",
    "<table>\n",
    "    <tr>\n",
    "        <td>Categoría</td>\n",
    "        <td>Nombre</td>\n",
    "        <td>Descripción</td>\n",
    "        <td>Ejemplo</td>\n",
    "    </tr>\n",
    "    <tr>\n",
    "        <td>Inmutable</td>\n",
    "        <td>int</td>\n",
    "        <td>entero</td>\n",
    "        <td>edad = 26</td>\n",
    "    </tr>\n",
    "    <tr>\n",
    "        <td>Inmutable</td>\n",
    "        <td>long</td>\n",
    "        <td>entero long</td>\n",
    "        <td>entero = 23L</td>\n",
    "    </tr>\n",
    "    <tr>\n",
    "        <td>Inmutable</td>\n",
    "        <td>float</td>\n",
    "        <td>coma flotante</td>\n",
    "        <td>real = 0.2703</td>\n",
    "    </tr>\n",
    "    <tr>\n",
    "        <td>Inmutable</td>\n",
    "        <td>complex</td>\n",
    "        <td>complejos (tienen parte imaginaria)</td>\n",
    "        <td>complejo = 2.1 + 7.8j</td>\n",
    "    </tr>\n",
    "    <tr>\n",
    "        <td>Inmutable</td>\n",
    "        <td>bool</td>\n",
    "        <td>booleano</td>\n",
    "        <td>bandera = True</td>\n",
    "    </tr>\n",
    "    <tr>\n",
    "        <td>Secuencias inmutables</td>\n",
    "        <td>str</td>\n",
    "        <td>cadena de caracteres</td>\n",
    "        <td>nombre = \"Paola\"</td>\n",
    "    </tr>\n",
    "    <tr>\n",
    "        <td>Secuencias inmutables</td>\n",
    "        <td>unicode</td>\n",
    "        <td>cadena de caracteres Unicode</td>\n",
    "        <td>saber_mas = u\"Atüjaa oo'omüin...\"</td>\n",
    "    </tr>\n",
    "    <tr>\n",
    "        <td>Secuencias inmutables</td>\n",
    "        <td>tuple</td>\n",
    "        <td>tuplas</td>\n",
    "        <td>valores = (\"Python\", True, \"Zope\", 5)</td>\n",
    "    </tr>\n",
    "    <tr>\n",
    "        <td>Secuencias mutables</td>\n",
    "        <td>list</td>\n",
    "        <td>lista, soporta datos heterogeneos</td>\n",
    "        <td>factura = ['pan', 'huevos', 100, 1234]</td>\n",
    "    </tr>\n",
    "    <tr>\n",
    "        <td>Mapeos</td>\n",
    "        <td>dict</td>\n",
    "        <td>diccionario</td>\n",
    "        <td>diccionario ={'python': 27, 'plone': 51}</td>\n",
    "    </tr>\n",
    "    <tr>\n",
    "        <td>Conjuntos mutables</td>\n",
    "        <td>set</td>\n",
    "        <td>conjunto, es una colección no ordenada y sin elementos repetidos</td>\n",
    "        <td>set_mutable1 = set([4, 3, 11, 7, 5, 2, 1, 4])</td>\n",
    "    </tr>\n",
    "</table>\n",
    "\n",
    "<ul>\n",
    "<li>Alcance de las variables: La mayoría de las variables en Python tiene un alcance local en su propia función o clase. Por ejemplo si define a = 1 dentro de una función, entonces la variable \"a\" estará disponible dentro de la función pero será indefinida fuera de ésta. Variables definidas dentro de la función main son accesibles sólo dentro del main pero no para funciones que se llaman desde el main. </li>\n",
    "<li>Variables Globales: Las variables globales  variables son declaradas utilizando la palabra reservada \"global\".</li>\n",
    "</ul>\n"
   ]
  },
  {
   "cell_type": "code",
   "execution_count": 2,
   "metadata": {},
   "outputs": [
    {
     "name": "stdout",
     "output_type": "stream",
     "text": [
      "La suma es:  3\n"
     ]
    }
   ],
   "source": [
    "a=1\n",
    "b=2\n",
    "\n",
    "def sum():\n",
    "    global a, b\n",
    "    c=a+b\n",
    "    return c\n",
    "\n",
    "def main():\n",
    "    resultado = sum()\n",
    "    print(\"La suma es: \", str(resultado))\n",
    "    \n",
    "\n",
    "if __name__ == \"__main__\":\n",
    "    main()"
   ]
  },
  {
   "cell_type": "markdown",
   "metadata": {},
   "source": [
    "#### __Bloques de código y estructuras de control__\n",
    "\n",
    "En esta sección se describen las estructuras de control del lenguaje Python a través de la ejemplicación práctica de éstas. \n",
    "\n",
    "##### Condicional if\n",
    "La implementación de condiciones permite incoporar el poder de ramas en un programa. A continución se ilustra el uso de la estructura if."
   ]
  },
  {
   "cell_type": "code",
   "execution_count": null,
   "metadata": {},
   "outputs": [],
   "source": [
    "def main():\n",
    "    a = input(\"Ingresa a:\")\n",
    "    if int(a)>40:\n",
    "        print(a + \" es mayor que 40\")\n",
    "    print(\"Adios..\")\n",
    "        \n",
    "if __name__ == \"__main__\":\n",
    "    main()"
   ]
  },
  {
   "cell_type": "code",
   "execution_count": null,
   "metadata": {},
   "outputs": [],
   "source": [
    "def main():\n",
    "    a = input(\"Ingresa a:\")\n",
    "    if int(a)>40:\n",
    "        print(a + \" es mayor que 40\")\n",
    "    else:\n",
    "        print(a + \" es menor que 40\")\n",
    "    print(\"Adios..\")\n",
    "\n",
    "if __name__ == \"__main__\":\n",
    "    main()"
   ]
  },
  {
   "cell_type": "code",
   "execution_count": null,
   "metadata": {},
   "outputs": [],
   "source": [
    "def main():\n",
    "    a = input(\"Ingresa a:\")\n",
    "    if int(a)== 0:\n",
    "        print(a+ \" es nulo\")\n",
    "    elif int(a)>0:\n",
    "        print(a+ \" es positivo\")\n",
    "    else:\n",
    "        print(a+ \" es negativo\")\n",
    "    print(\"Adios..\")\n",
    "        \n",
    "if __name__ == \"__main__\":\n",
    "    main()"
   ]
  },
  {
   "cell_type": "markdown",
   "metadata": {},
   "source": [
    "**Ejercicio # 1:** Realice un programa en Python que dado como dato el sueldo de un trabajador, le aplique un aumento del 15% si su sueldo es inferior a $1000.00 y del 12% en caso contrario. Imprima el nuevo sueldo del trabajador.  "
   ]
  },
  {
   "cell_type": "code",
   "execution_count": 6,
   "metadata": {},
   "outputs": [
    {
     "name": "stdout",
     "output_type": "stream",
     "text": [
      "Cual es el sueldo del trabajador900\n",
      "El nuevo sueldo es de:  1035.0\n"
     ]
    }
   ],
   "source": [
    "# Nombre: sueldos.py\n",
    "# Objetivo: dado como dato el sueldo de un trabajador, le aplique un aumento del 15% si su sueldo es inferior a $1000.00 \n",
    "            #y del 12% en caso contrario. Imprima el nuevo sueldo del trabajador. \n",
    "# Autor: Mario Rubén Mancilla Tinoco\n",
    "# Fecha: 04/07/2019\n",
    "def main():\n",
    "    print(\"---Aumento de sueldo---\")\n",
    "    sueldo = int(input(\"Cual es el sueldo del trabajador: \"))\n",
    "    if(sueldo < 1000):\n",
    "        sueldo += (sueldo * .15)\n",
    "    else:\n",
    "        sueldo += (sueldo * .12)\n",
    "    \n",
    "    print(\"El nuevo sueldo es de: \", sueldo)\n",
    "    \n",
    "if __name__ == \"__main__\":\n",
    "    main()"
   ]
  },
  {
   "cell_type": "markdown",
   "metadata": {},
   "source": [
    "**Ejercicio # 2:** Realice un programa en Python que dado como datos la categoría y el sueldo de un trabajor, calcule el aumento correspondiente teniendo en cuenta la siguiente información e imprima el nuevo sueldo del trabajador:\n",
    "\n",
    "<ul>\n",
    "    <li>Categoría 1 : Aumento 15%</li>\n",
    "    <li>Categoría 2 : Aumento 10%</li>\n",
    "    <li>Categoría 3 : Aumento 8%</li>\n",
    "    <li>Categoría 4 : Aumento 7%</li>\n",
    "</ul>"
   ]
  },
  {
   "cell_type": "code",
   "execution_count": 7,
   "metadata": {},
   "outputs": [
    {
     "name": "stdout",
     "output_type": "stream",
     "text": [
      "---Aumento de sueldo por categoria---\n",
      "Cual es la categoria del trabajador1\n",
      "Cual es el sueldo del trabajador1000\n",
      "El nuevo sueldo del trabajador es:  1150.0\n"
     ]
    }
   ],
   "source": [
    "# Nombre: sueldosCategoria.py\n",
    "# Objetivo: dada la categoría y el sueldo de un trabajor, calcule el aumento correspondiente teniendo en \n",
    "#           cuenta la siguiente información e imprima el nuevo sueldo del trabajador\n",
    "# Autor: Mario Rubén Mancilla Tinoco\n",
    "# Fecha: 04/07/2019\n",
    "def main():\n",
    "    print(\"---Aumento de sueldo por categoria---\")\n",
    "    cat = int(input(\"Cual es la categoria del trabajador\"))\n",
    "    sueldo = int(input(\"Cual es el sueldo del trabajador\"))\n",
    "    \n",
    "    if(cat == 1):\n",
    "        sueldo += (sueldo*.15)\n",
    "    elif(cat == 2):\n",
    "        sueldo += (sueldo*.10)\n",
    "    elif(cat == 3):\n",
    "        sueldo += (sueldo*.8)\n",
    "    elif(cat == 4):\n",
    "        sueldo += (sueldo*.7)\n",
    "    else:\n",
    "        print(\"Esa categoria no existe!\")\n",
    "        \n",
    "    print(\"El nuevo sueldo del trabajador es: \", sueldo)\n",
    "    \n",
    "if __name__ == \"__main__\":\n",
    "    main()"
   ]
  },
  {
   "cell_type": "markdown",
   "metadata": {},
   "source": [
    "##### Ciclos for y while\n",
    "Python soporta ciclos while y ciclos for. A continuación se presentan algunos ejemplos del uso de éstos.\n",
    "\n",
    "###### Ciclo while\n",
    "__Ciclo while controlado por contador__"
   ]
  },
  {
   "cell_type": "code",
   "execution_count": null,
   "metadata": {},
   "outputs": [],
   "source": [
    "#Ciclo while controlado por contador\n",
    "def main():\n",
    "    suma, contador = 0, 1\n",
    "    while contador <=10:\n",
    "        suma = contador + suma\n",
    "        print(\"La suma en \" + str(contador) + \" es :\" + str(suma))\n",
    "        contador +=1\n",
    "\n",
    "if __name__ == \"__main__\":\n",
    "    main()\n"
   ]
  },
  {
   "cell_type": "markdown",
   "metadata": {},
   "source": [
    "En este caso ventualmente cuando el contador llegue a tener un valor de 10, la condición del ciclo numero <= 10 sera False, por lo que el ciclo terminará arrojando el siguiente resultado.\n",
    "\n",
    "__Ciclo while controlado por evento__"
   ]
  },
  {
   "cell_type": "code",
   "execution_count": null,
   "metadata": {},
   "outputs": [],
   "source": []
  },
  {
   "cell_type": "markdown",
   "metadata": {},
   "source": [
    "En este caso el evento que se dispara surge cuando el usuario ingresa \"s\" o \"S\", causando que el bucle while se interrumpa.\n",
    "\n",
    "__Ciclo while con else__\n",
    "\n",
    "Al igual que la sentencia if, la estructura whilepuede utilizar con una sentencia \"else\". Sin embargo, en este caso la sentencia \"else\" se ejecuta en todos los casos, es decir, cuando la expresión condicional del while sea False."
   ]
  },
  {
   "cell_type": "code",
   "execution_count": null,
   "metadata": {},
   "outputs": [],
   "source": []
  },
  {
   "cell_type": "markdown",
   "metadata": {},
   "source": [
    "En este caso una vez que el ciclo While se ve interrumpido, se dirige a la sentencia else y ejecuta la instrucción print(\"Adios\"). Cómo puedo observar en todos los casos, siempre se ejecutará el else."
   ]
  },
  {
   "cell_type": "markdown",
   "metadata": {},
   "source": [
    "###### Ciclo for\n",
    "La sentencia for en python difiere un poco de lo que se puede estar acostumbrado en entors lenguajes. En lugar de siempre iterar sobre una prgresión aritmética de números o darle al usuario la posibilidad de definir tanto el paso de la iteración como la condición de fin, la sentencia for de Python itera sobre los elementos de cualquier tipo iterable, en el orden en que aparecen en la secuencia.\n",
    "\n",
    "__Ciclo for con Listas__"
   ]
  },
  {
   "cell_type": "code",
   "execution_count": 8,
   "metadata": {},
   "outputs": [
    {
     "name": "stdout",
     "output_type": "stream",
     "text": [
      "El animal es: gato, tamaño de palabra es: 4\n",
      "El animal es: perro, tamaño de palabra es: 5\n",
      "El animal es: serpiente, tamaño de palabra es: 9\n"
     ]
    }
   ],
   "source": [
    "def main():\n",
    "    animales = ['gato', 'perro', 'serpiente']\n",
    "    for animal in animales:\n",
    "        print(\"El animal es: {0}, tamaño de palabra es: {1}\".format(animal, len(animal)))\n",
    "\n",
    "if __name__ == \"__main__\":\n",
    "    main()"
   ]
  },
  {
   "cell_type": "markdown",
   "metadata": {},
   "source": [
    "En el ejemplo anterior la variable animal toma cada uno de los elementos del elemento iterable sobre el cual se está iterando, en este caso una lista. Lo anterior se logra a través del uso del operador de pertenencia **\"in\"**, el cual evalua a verdadero si encuentra un variable en la secuencia especificada o falso de manera contraria. El operador \"in\" es usado para verificar si un valor existe o no en una secuencia. \n",
    "\n",
    "Por otro lado, la función **.format()** es uno de los métodos de formateo de cadenas, permitiendo concatenar elementos en una cadena de caracteres a través de un formateo posicional. Para lo anterior, las {} son colocadas en la posición en donde se desea concatenar un valor, el cual puede ser entero, flotante, strinc, caracteres, etc.\n",
    "\n",
    "La función **len()** devuelve la longitud de un elemento iterable.\n",
    "\n",
    "**Ejercicio # 3:** Realice un programa en Python que dado como datos los sueldos de 10 trabajadores de una empresa, obtenga el total de nómina de la misma. Puede utilizar un ciclo for o un ciclo while. \n",
    "\n",
    "__Ciclo for con Listas  y función range__"
   ]
  },
  {
   "cell_type": "code",
   "execution_count": 11,
   "metadata": {},
   "outputs": [
    {
     "name": "stdout",
     "output_type": "stream",
     "text": [
      "Introduce el sueldo: 1\n",
      "Introduce el sueldo: 1\n",
      "Introduce el sueldo: 1\n",
      "Introduce el sueldo: 1\n",
      "Introduce el sueldo: 1\n",
      "Introduce el sueldo: 1\n",
      "Introduce el sueldo: 1\n",
      "Introduce el sueldo: 1\n",
      "Introduce el sueldo: 1\n",
      "Introduce el sueldo: 1\n",
      "La nomina de todos los sueldos es la siguiente:  10\n"
     ]
    }
   ],
   "source": [
    "# Nombre: sueldosNomina.py\n",
    "# Objetivo: dado los sueldos de 10 trabajadores de una empresa, obtenga el total de nómina de la misma.\n",
    "# Autor: Mario Rubén Mancilla Tinoco\n",
    "# Fecha: 04/07/2019\n",
    "def main():\n",
    "    cont = 1\n",
    "    nomina = 0\n",
    "    while cont <= 10:\n",
    "        sueldo = int(input(\"Introduce el sueldo: \"))\n",
    "        nomina += sueldo\n",
    "        cont += 1\n",
    "    print(\"La nomina de todos los sueldos es la siguiente: \", nomina)\n",
    "    \n",
    "    \n",
    "if __name__ == \"__main__\":\n",
    "    main()"
   ]
  },
  {
   "cell_type": "code",
   "execution_count": 9,
   "metadata": {},
   "outputs": [
    {
     "name": "stdout",
     "output_type": "stream",
     "text": [
      "La oración analizada es: Los Maestros del departamento de Sistemas desean aprender Python .\n",
      "\n",
      "Palabra: Los, en la frase su posición es: 0\n",
      "Palabra: Maestros, en la frase su posición es: 1\n",
      "Palabra: del, en la frase su posición es: 2\n",
      "Palabra: departamento, en la frase su posición es: 3\n",
      "Palabra: de, en la frase su posición es: 4\n",
      "Palabra: Sistemas, en la frase su posición es: 5\n",
      "Palabra: desean, en la frase su posición es: 6\n",
      "Palabra: aprender, en la frase su posición es: 7\n",
      "Palabra: Python, en la frase su posición es: 8\n"
     ]
    }
   ],
   "source": [
    "def main():\n",
    "    oracion = 'Los Maestros del departamento de Sistemas desean aprender Python'\n",
    "    frases = oracion.split() \n",
    "    print(\"La oración analizada es:\", oracion, \".\\n\")\n",
    "    for palabra in range(len(frases)):\n",
    "        print(\"Palabra: {0}, en la frase su posición es: {1}\".format(frases[palabra], palabra))\n",
    "        \n",
    "if __name__ == \"__main__\":\n",
    "    main()"
   ]
  },
  {
   "cell_type": "markdown",
   "metadata": {},
   "source": [
    "En el ejemplo anterior la variable \"palabra\" está tomando un valor entero de la progresión generada por la función **range()**, que en este caso tomó como parámetro el valor devuelto por la función **len()**, comenzando desde 0 hasta longitud-1. La función range toma la siguiente estrcutura: **range([start],stop[, step])**. \n",
    "\n",
    "<ol>\n",
    "    <li>start: inicio del número de la secuencia</li>\n",
    "    <li>stop: paro de la secuencia, es decir, hasta donde sin incluir este número</li>\n",
    "    <li>step: incremento</li>\n",
    "</ol>\n",
    "\n",
    "**Ejercicio # 4:** Realice un programa en Python que permita capturar en una lista las calificaciones de N alumnos y que le permita calcular e imprimir lo siguiente:\n",
    "<ol>\n",
    "    <li>El promedio general de los alumnos</li>\n",
    "    <li>Numero de alumnos aprobados y número de alumnos reprobados (Si el alumno sacó una calificación menor a 70 se considera reprobado)</li>\n",
    "    <li>Porcentaje de alumnos aprobados y reprobados.</li>\n",
    "    <li>Número de alumnos cueya calificación fue mayor a 80</li>\n",
    "</ol>\n",
    "\n",
    "__Ciclo for con tuplas__"
   ]
  },
  {
   "cell_type": "code",
   "execution_count": 14,
   "metadata": {},
   "outputs": [
    {
     "name": "stdout",
     "output_type": "stream",
     "text": [
      "Introduzca la calificación: 100\n",
      "\n",
      "\n",
      "Desea capturar otra calificación? (s/n) s\n",
      "Capturando a otro alumno...\n",
      "Introduzca la calificación: 90\n",
      "\n",
      "\n",
      "Desea capturar otra calificación? (s/n) s\n",
      "Capturando a otro alumno...\n",
      "Introduzca la calificación: 70\n",
      "\n",
      "\n",
      "Desea capturar otra calificación? (s/n) 50\n",
      "Introduzca la calificación: 50\n",
      "\n",
      "\n",
      "Desea capturar otra calificación? (s/n) n\n",
      "El promedio general de los alumnos fue:  77.5\n",
      "El numero de alumnos aprobados y su porcentaje fue:  3  ,  75.0 %\n",
      "El numero de alumnos reporbados y su porcentaje fue:  1  ,  25.0 %\n",
      "El numero de alumnos que tuvieron calificacion mayor a 80 fue:  2\n"
     ]
    }
   ],
   "source": [
    "# Nombre: calificaciones.py\n",
    "# Objetivo: permita capturar en una lista las calificaciones de N alumnos y que le permita calcular e imprimir lo siguiente\n",
    "# Autor: Mario Rubén Mancilla Tinoco\n",
    "# Fecha: 04/07/2019\n",
    "\n",
    "#Declaración de la lista\n",
    "alumnos = []\n",
    "\n",
    "def main():\n",
    "    band = True\n",
    "    while band == True:\n",
    "        calif = int(input(\"Introduzca la calificación: \"))\n",
    "        alumnos.append(calif)\n",
    "        print(\"\\n\")\n",
    "        resp = input(\"Desea capturar otra calificación? (s/n) \")\n",
    "        if(resp == \"N\" or resp == \"n\"):\n",
    "            band = False\n",
    "        elif(resp == \"S\" or resp == \"s\"):\n",
    "            band = True\n",
    "            print(\"Capturando a otro alumno...\")\n",
    "    #Recorremos la lista para calcular los valores solicitados\n",
    "    suma = 0\n",
    "    alma = 0\n",
    "    almr = 0\n",
    "    ochn = 0\n",
    "    for i in alumnos:\n",
    "        suma += i\n",
    "        if(i >= 70):\n",
    "            alma += 1\n",
    "        else:\n",
    "            almr += 1\n",
    "        if(i >= 80):\n",
    "            ochn += 1\n",
    "    \n",
    "    print(\"El promedio general de los alumnos fue: \", (suma/len(alumnos)))\n",
    "    print(\"El numero de alumnos aprobados y su porcentaje fue: \", alma, \" , \", (alma/len(alumnos))*100, \"%\")\n",
    "    print(\"El numero de alumnos reporbados y su porcentaje fue: \", almr, \" , \", (almr/len(alumnos))*100, \"%\")\n",
    "    print(\"El numero de alumnos que tuvieron calificacion mayor a 80 fue: \", ochn)\n",
    "    \n",
    "    \n",
    "    \n",
    "if __name__ == \"__main__\":\n",
    "    main()"
   ]
  },
  {
   "cell_type": "code",
   "execution_count": null,
   "metadata": {},
   "outputs": [],
   "source": [
    "def main():\n",
    "    tupla = (1,'Una',2,'tupla',3,'es',4,'un tipo de dato',5,'inmutable',6,'en', 7,'Python')\n",
    "    for elemento in tupla:\n",
    "        print (\"El elemento actual es:\",elemento)\n",
    "\n",
    "if __name__ == \"__main__\":\n",
    "    main()"
   ]
  },
  {
   "cell_type": "markdown",
   "metadata": {},
   "source": [
    "__Ciclo for con diccionarios__\n"
   ]
  },
  {
   "cell_type": "code",
   "execution_count": 15,
   "metadata": {},
   "outputs": [
    {
     "name": "stdout",
     "output_type": "stream",
     "text": [
      "\n",
      ".::: Elementos del diccionario: ::.\n",
      "nombres: Juan\n",
      "apellidos: Rulfo\n",
      "fecha_nacimiento: 16/05/1917\n",
      "lugar_nacimiento: Apulco, San Gabriel, Sayula, Jalisco, México\n",
      "nacionalidad: Mexicana\n",
      "\n",
      ".::: Llaves del diccionario: ::.\n",
      "nombres\n",
      "apellidos\n",
      "fecha_nacimiento\n",
      "lugar_nacimiento\n",
      "nacionalidad\n",
      "\n",
      ".::: Valores del diccionario: ::.\n",
      "Juan\n",
      "Rulfo\n",
      "16/05/1917\n",
      "Apulco, San Gabriel, Sayula, Jalisco, México\n",
      "Mexicana\n"
     ]
    }
   ],
   "source": [
    "def main():\n",
    "    \n",
    "    datos_basicos = {\n",
    "        \"nombres\":\"Juan\",\n",
    "        \"apellidos\":\"Rulfo\",\n",
    "        \"fecha_nacimiento\":\"16/05/1917\",\n",
    "        \"lugar_nacimiento\":\"Apulco, San Gabriel, Sayula, Jalisco, México\",\n",
    "        \"nacionalidad\":\"Mexicana\",\n",
    "    }\n",
    "\n",
    "    print(\"\\n.::: Elementos del diccionario: ::.\")\n",
    "    for clave, valor in datos_basicos.items():\n",
    "        print(clave + \": \" + valor)\n",
    "\n",
    "    print(\"\\n.::: Llaves del diccionario: ::.\")\n",
    "    for clave in datos_basicos.keys():\n",
    "        print(clave)\n",
    "\n",
    "    print(\"\\n.::: Valores del diccionario: ::.\")  \n",
    "    for valores in datos_basicos.values():\n",
    "        print(valores)\n",
    "\n",
    "if __name__ == \"__main__\":\n",
    "    main()\n"
   ]
  },
  {
   "cell_type": "markdown",
   "metadata": {},
   "source": [
    "Como se puede observar la iteración del ciclo sobre el diccionario es similar que iterar sobre una lista; sin embargo, la llave y el valor correspondiente se puede obtener al mismo tiempo usando la función **items()**, de lo contrario se hace uso de la función **keys()** y **values()**. \n",
    "\n",
    "**Ejercicio # 5:** Realice un programa en python que permita almacenar en un diccionario los datos generales de un alumno del ITC. Deberá poder imprimir cada uno de éstos datos a través de la clave del diccinario y modificar al menos uno de los datos (ej. número telefónico).\n",
    "\n",
    "\n",
    "__Ciclo for con else__"
   ]
  },
  {
   "cell_type": "code",
   "execution_count": 29,
   "metadata": {},
   "outputs": [
    {
     "name": "stdout",
     "output_type": "stream",
     "text": [
      "Ingrese el nombre del alumno: mario\n",
      "Ingrese el apellido del alumno: mancilla tinoco\n",
      "Ingrese la fecha de nacimiento del alumno: 17/12/2019\n",
      "Ingrese el lugar de nacimiento del alumno: armeria, colima\n",
      "Ingrese el nacionalidad del alumno: maxicana\n",
      "Ingrese el celular del alumno: 8521479963\n",
      "\n",
      ".::: Elementos del diccionario: :::\n",
      "nombre: mario\n",
      "apellidos: mancilla tinoco\n",
      "fecha_nacimiento: 17/12/2019\n",
      "lugar_nacimiento: armeria, colima\n",
      "nacionalidad: maxicana\n",
      "celular: 8521479963\n",
      "Ingrese el dato a modificar: nombre\n",
      "Ingrese el nuevo valor de ese dato: ruben\n",
      "\n",
      ".::: Elementos modificados del diccionario: :::\n",
      "nombre: ruben\n",
      "apellidos: mancilla tinoco\n",
      "fecha_nacimiento: 17/12/2019\n",
      "lugar_nacimiento: armeria, colima\n",
      "nacionalidad: maxicana\n",
      "celular: 8521479963\n"
     ]
    }
   ],
   "source": [
    "# Nombre: datosDiccionario.py\n",
    "# Objetivo: permita almacenar en un diccionario los datos generales de un alumno del ITC. \n",
    "          # Deberá poder imprimir cada uno de éstos datos a través de la clave del diccinario y \n",
    "          # modificar al menos uno de los datos (ej. número telefónico).\n",
    "# Autor: Mario Rubén Mancilla Tinoco\n",
    "# Fecha: 04/07/2019\n",
    "\n",
    "def main():\n",
    "    datos_alumno = {\n",
    "        \"nombre\":\"\",\n",
    "        \"apellidos\":\"\",\n",
    "        \"fecha_nacimiento\":\"\",\n",
    "        \"lugar_nacimiento\":\"\",\n",
    "        \"nacionalidad\":\"\",\n",
    "        \"celular\":\"\"\n",
    "    }\n",
    "    \n",
    "    datos_alumno[\"nombre\"] = input(\"Ingrese el nombre del alumno: \")\n",
    "    datos_alumno[\"apellidos\"] = input(\"Ingrese el apellido del alumno: \")\n",
    "    datos_alumno[\"fecha_nacimiento\"] = input(\"Ingrese la fecha de nacimiento del alumno: \")\n",
    "    datos_alumno[\"lugar_nacimiento\"] = input(\"Ingrese el lugar de nacimiento del alumno: \")\n",
    "    datos_alumno[\"nacionalidad\"] = input(\"Ingrese el nacionalidad del alumno: \")\n",
    "    datos_alumno[\"celular\"] = input(\"Ingrese el celular del alumno: \")\n",
    "    \n",
    "    print(\"\\n.::: Elementos del diccionario: :::\")\n",
    "    for clave, valor in datos_alumno.items():\n",
    "        print(clave + \": \" + valor)\n",
    "        \n",
    "    \n",
    "    dato = input(\"Ingrese el dato a modificar: \")\n",
    "    band = False\n",
    "    for clave in datos_alumno.keys():\n",
    "        if(clave == dato):\n",
    "            band = True\n",
    "            \n",
    "    if(band):\n",
    "        valor = input(\"Ingrese el nuevo valor de ese dato: \")\n",
    "        datos_alumno[dato] = valor\n",
    "        print(\"\\n.::: Elementos modificados del diccionario: :::\")\n",
    "        for clave, valor in datos_alumno.items():\n",
    "            print(clave + \": \" + valor)\n",
    "    else:\n",
    "        print(\"Ese dato no existe...\")\n",
    "    \n",
    "if __name__ == \"__main__\":\n",
    "    main()"
   ]
  },
  {
   "cell_type": "code",
   "execution_count": 26,
   "metadata": {},
   "outputs": [
    {
     "name": "stdout",
     "output_type": "stream",
     "text": [
      "El animal es: gato, tamaño de palabra es: 4\n",
      "El animal es: perro, tamaño de palabra es: 5\n",
      "El animal es: serpiente, tamaño de palabra es: 9\n",
      "Adios..\n"
     ]
    }
   ],
   "source": [
    "def main():\n",
    "    animales = ['gato', 'perro', 'serpiente']\n",
    "    for animal in animales:\n",
    "        print(\"El animal es: {0}, tamaño de palabra es: {1}\".format(animal, len(animal)))\n",
    "    else:\n",
    "        print(\"Adios..\")\n",
    "\n",
    "if __name__ == \"__main__\":\n",
    "    main()"
   ]
  },
  {
   "cell_type": "markdown",
   "metadata": {},
   "source": [
    "Al igual que la sentencia if y el bucle while, la estructura for también puede combinarse con una sentencia else, el cual se ejecutará en todos los casos, es decir, cuando la expresión condicional del bucle for sea False, (a comparación de la sentencia if).\n",
    "\n"
   ]
  },
  {
   "cell_type": "markdown",
   "metadata": {},
   "source": [
    "###### Iteradores\n",
    "Un iterador es un objeto que permite recorrer uno a uno los elementos almacenados en una estructura de datos, y operar con ellos. Los iteradores tienen que implementar un método next que debe devolver los elementos, de a uno por vez, comenzando por el primero. Y al llegar al final de la estructura, debe levantar una excepción de tipo StopIteration. Es importante mencionar que el ciclo for en Python implementa un interador de manera interna, por lo tanto las siguientes estructuras son equivalentes:\n",
    "\n",
    "```python\n",
    "for elemento in secuencia:\n",
    "    # hacer algo con elemento\n",
    "\n",
    "iterador = iter(secuencia)\n",
    "while True:\n",
    "    try:\n",
    "        elemento = iterador.next()\n",
    "    except StopIteration:\n",
    "        break\n",
    "    # hacer algo con elemento\n",
    "```    "
   ]
  },
  {
   "cell_type": "code",
   "execution_count": null,
   "metadata": {},
   "outputs": [],
   "source": [
    "def main(): \n",
    "    iterador = ['1', 2, 'tres', 4.0].__iter__()\n",
    "    while True:\n",
    "        try: \n",
    "            i = iterador.__next__()\n",
    "            print(i)\n",
    "        except StopIteration:\n",
    "            break\n",
    "\n",
    "if __name__ == \"__main__\":\n",
    "    main()"
   ]
  },
  {
   "cell_type": "markdown",
   "metadata": {},
   "source": [
    "Un objeto iterador en python debe implementar dos métodos especiales, **__iter__()** y **__next__()**. El método **__iter__()** regresa el objeto iterador en si; mientras que, el método **__next__()** regresa el siguiente elemento de la secuencia, en donde alcanzando el final lanza un **StopIteration** \n",
    "\n",
    "Es importante mencionar que todos los datos iterables soportan el método **iter()** regresando un iterador para el objeto dado."
   ]
  },
  {
   "cell_type": "code",
   "execution_count": null,
   "metadata": {},
   "outputs": [],
   "source": [
    "def main():\n",
    "    vocales = ['a', 'e', 'i', 'o', 'u']\n",
    "\n",
    "    iterador_vocales = iter(vocales)\n",
    "    print(next(iterador_vocales))\n",
    "    \n",
    "if __name__ == \"__main__\":\n",
    "    main()"
   ]
  },
  {
   "cell_type": "markdown",
   "metadata": {},
   "source": [
    "#### __Funciones__\n",
    "Una función es un bloque de código que sólo se ejecuta cuando ésta es llamada, ésta puede regresar daos como un resultado. En Python una función es definida usando la palabra reservada **def**.\n",
    "##### Creación de una función"
   ]
  },
  {
   "cell_type": "code",
   "execution_count": null,
   "metadata": {},
   "outputs": [],
   "source": [
    "def funcion():\n",
    "    print(\"Hola \")\n",
    "\n",
    "def main():\n",
    "    funcion()\n",
    "\n",
    "if __name__ == \"__main__\":\n",
    "    main()"
   ]
  },
  {
   "cell_type": "markdown",
   "metadata": {},
   "source": [
    "##### Paso de parámetros\n",
    "Los argumentos de una función son pasados por valor, de tal forma que si se cambia el valor de alrgumento dentro de la función, éste no cambia por fuera de la funciÓN. Si se desea que una función sea capaz de modificar variables no locales, éstas se deben declarar como globales en la primera linea de la fuinción. Es  importante mencionar que si se declara cualquier variable como global, el nombre no puede ser reusado en la lista de argumentos (causaría un error). A una función se le pueden pasar parámetros, los cuales son especificados después del nombre de la función, dentro de los paréntesis. "
   ]
  },
  {
   "cell_type": "code",
   "execution_count": null,
   "metadata": {},
   "outputs": [],
   "source": [
    "def funcion(nombre):\n",
    "  print(nombre + \" Sandoval\")\n",
    "\n",
    "def main():\n",
    "    funcion(\"Alejandra\")\n",
    "    funcion(\"Felipe\")\n",
    "    funcion(\"Tomás\") \n",
    "\n",
    "if __name__ == \"__main__\":\n",
    "    main()"
   ]
  },
  {
   "cell_type": "markdown",
   "metadata": {},
   "source": [
    "###### Parámetro por defecto"
   ]
  },
  {
   "cell_type": "code",
   "execution_count": null,
   "metadata": {},
   "outputs": [],
   "source": [
    "def funcion(pais = \"Noruega\"):\n",
    "  print(\"Yo soy de \" + pais)\n",
    "\n",
    "def main():\n",
    "    funcion(\"Suecia\")\n",
    "    funcion(\"India\")\n",
    "    funcion()\n",
    "    funcion(\"Brasil\")\n",
    "\n",
    "if __name__ == \"__main__\":\n",
    "    main()"
   ]
  },
  {
   "cell_type": "markdown",
   "metadata": {},
   "source": [
    "###### Lista como parámetro"
   ]
  },
  {
   "cell_type": "code",
   "execution_count": null,
   "metadata": {},
   "outputs": [],
   "source": [
    "def funcion(comida):\n",
    "  for fruta in comida:\n",
    "    print(fruta)\n",
    "\n",
    "def main():\n",
    "    frutas = [\"manzana\", \"plátano\", \"uva\"]\n",
    "    funcion(frutas)\n",
    "    \n",
    "if __name__ == \"__main__\":\n",
    "    main()"
   ]
  },
  {
   "cell_type": "markdown",
   "metadata": {},
   "source": [
    "###### Regreso de valores"
   ]
  },
  {
   "cell_type": "code",
   "execution_count": null,
   "metadata": {},
   "outputs": [],
   "source": [
    "def funcion(numero):\n",
    "  return 5 * numero\n",
    "\n",
    "def main():\n",
    "    print(funcion(3))\n",
    "    print(funcion(5))\n",
    "    print(funcion(9))\n",
    "\n",
    "if __name__ == \"__main__\":\n",
    "    main()"
   ]
  },
  {
   "cell_type": "markdown",
   "metadata": {},
   "source": [
    "###### Recursividad\n",
    "En Python una función es recursiva si se manda llamar a sí misma y tinee una condición de termino, para evitar que la función se llama así misma infinitamente."
   ]
  },
  {
   "cell_type": "code",
   "execution_count": null,
   "metadata": {},
   "outputs": [],
   "source": [
    "def factorial(n):\n",
    "    if n == 1:\n",
    "        return 1\n",
    "    else:\n",
    "        return n * factorial(n-1)\n",
    "\n",
    "def main():\n",
    "    print(factorial(3))\n",
    "    \n",
    "if __name__ == \"__main__\":\n",
    "    main()"
   ]
  },
  {
   "cell_type": "markdown",
   "metadata": {},
   "source": [
    "#### __Programación Orientada a Objetos__\n",
    "\n",
    "Algunas particularidades de la POO en Python son las siguientes:\n",
    "<ul>\n",
    "    <li>Todo es un objeto, incluyendo los tipos y clases\n",
    "    <li>Permite herencia múltiple</li>\n",
    "    <li>No existen métodos ni atributos privados</li>\n",
    "    <li>Los atributos pueden ser modificados directamente</li>\n",
    "    <li>Permite el \"monkey patching\"</li>\n",
    "    <li>Permite la sobrecarga de operadores</li>\n",
    "    <li>Permite la creación de nuevos tipos de datos</li>\n",
    "</ul>\n",
    "\n",
    "Las clases proveen una forma de empaquetar datos y funcionalidad juntos. Al crear una nueva clase, se crea un nuevo tipode  objeto,  permitiendo  crear  nuevas  instancias  de  ese  tipo.  Cada  instancia  de  clase  puede  tener  atributos  adjuntos  paramantener  su  estado.  Las  instancias  de  clase  también  pueden  tener  métodos  (definidos  por  su  clase)  para  modificar  suestado.\n",
    "\n",
    "En Python las clases son definidas de alguna manera simira a Java, alguna de las diferencias incluyen el **self** que se utiliza en lugar del **this** y los constructores siendo nombrados **```__init__```** en lugar de **classname**. El **self** debe ser utilizado cada vez que una variable de clase es referenciada y debe ser el primer argumento en cada lista de arugmentos de función, incluyendo el constructor. Como las funciones, una clase debe ser definida antes de que pueda ser instanciada. En python todos los miembros de una clase son públicos. \n",
    "\n",
    "En python se puede definir una clase utilizando la palabra reservada ```class```. El bloque que sigue es la definición de la clase. Dentro de la defiición se hace referencia a la instancia de la clase **self**. Por ejemplo, el atributo de instancia ```dato``` es llamado ```self.dato``` en la definición de la clase, y el método de instancia ```calcular``` es llamado ```self.caclular``` en la definciión de la clse (ej., es llamado by ```self.calcular()```, sino recibe ningún argumento).\n",
    "\n",
    "Métodos son definidos usando la palabra reservada ```def```. El primer argumento en cualquier método es ```self```; esta sintaxis es como Python le dice al método \"haz uso de los métodos y atributos previamente definidos en esta instancia\". Sin embargo, nunca se usa ```self``` cunaod mandas llamar un método. \n",
    "\n",
    "Usualmente el primero método que se define en una clases es el método ```__init__```. Este método es llamado cuando se crea una instancia de la clase, y usualmente se coloca código que maneja los argumentos presentes cuando se crea (o instancia) una instancia de la clase y realiza cualquier tipo de inicialización para una instancia de objeto. Los argumentos de ```__init__``` es la lista de argumentos que se pasan al constructor de la clase. A continuación se proporciona un ejemplo.\n"
   ]
  },
  {
   "cell_type": "code",
   "execution_count": null,
   "metadata": {},
   "outputs": [],
   "source": [
    "class Libro(object):\n",
    "    def __init__(self, autor_apellido, autor_nombre, titulo, lugar, editorial, year):\n",
    "        self.autor_apellido = autor_apellido\n",
    "        self.autor_nombre = autor_nombre\n",
    "        self.titulo = titulo\n",
    "        self.editorial = editorial\n",
    "        self.lugar = lugar\n",
    "        self.year = year\n",
    "        \n",
    "    def escribe_entrada_bibliografica(self):\n",
    "        return self.autor_apellido + \",\" + self.autor_nombre + \",\" + self.titulo + \",\" + self.editorial + \",\" + self.lugar + \",\" + self.year + \".\"\n",
    "    \n",
    "    def hacer_autor_year(self):\n",
    "        self.autor_year = str(self.autor_nombre) + \"(\"+str(self.year)+\")\"\n",
    "        \n",
    "    \n",
    "def main():\n",
    "    belleza = Libro(\"Dubay\",\"Thomas\",\"The Evidential Power o Beuty\", \"San Francisco\", \"Ignatius Press\", \"1999\")\n",
    "    programacion_python = Libro(\"Martelli\", \"Alex\", \"Python in a Nutshell\", \"sebastopol,CA\", \"O'Reilly Media, Inc.\",\"2003\")\n",
    "    \n",
    "    print(\"Apellido del Autor:\", belleza.autor_apellido)\n",
    "    print(\"Nombre del Autor:\", belleza.autor_nombre)\n",
    "    print(belleza.escribe_entrada_bibliografica())\n",
    "    \n",
    "    principito = Libro(\"De Saint-Exupéry\", \"Antoine\", \"The Principite\", \"Paris\", \"Hotchins\", \"1947\")\n",
    "    print(principito.escribe_entrada_bibliografica())  \n",
    "    \n",
    "    belleza.year = \"2010\"\n",
    "    print(belleza.escribe_entrada_bibliografica())\n",
    "    belleza.hacer_autor_year()\n",
    "    print(belleza.escribe_entrada_bibliografica())\n",
    "    \n",
    "    print(belleza.autor_year)\n",
    "    \n",
    "   \n",
    "    \n",
    "\n",
    "if __name__ == \"__main__\":\n",
    "    main()\n",
    "    "
   ]
  },
  {
   "cell_type": "markdown",
   "metadata": {},
   "source": [
    "**Ejercicio: # 6 ** Definición de clase propia.\n",
    "<ol>\n",
    "    <li>Cree una instancia de la clase Libro usando un libro de su preferencia o invente uno.</li>\n",
    "    <li>Modifique el año de la instancia belleza a 2010.</li>\n",
    "    <li>Imprima la entrada bibliográfica de la instancia belleza.</li>\n",
    "    <li>Agregue un método llamado \"hacer_autor_year\" a la definición de la clase que creará un atributo \"autor_year\" y fijará ese atributo a un string que tenga el apellido_autor y el año entre paréntesis. Por ejemplo: para la instancia belleza este método debería asignar autor_year a Dubay (1999). El método no deberá contener un return.</li>\n",
    "    <li>Cree una clase Articulo que meneja la información acerca de artículos. Debe ser muy sismilara la definición de la clase Libro, a excepción por la editorial,  y coloque información coo título del artículo, número de volumen, páginas, etc. Asegurese de que esta clase tenga el método \"escribe_entrada bibliografica\" y \"hacer_autor_year\".</li>\n",
    "</ol>"
   ]
  },
  {
   "cell_type": "code",
   "execution_count": 9,
   "metadata": {},
   "outputs": [
    {
     "name": "stdout",
     "output_type": "stream",
     "text": [
      "('El punto tiene las siguientes coordenadas: ', 2, ' , ', 3)\n",
      "('La cricunferencia tiene como centro: ', 2, ' , ', 3, 5, ' el area es: ', 78.53981633974483)\n",
      "('El cilindro tiene una altura de: ', 4, ' y una circunferencia con radio de: ', 5, ' y un volumen de ', 314.1592653589793)\n"
     ]
    }
   ],
   "source": [
    "# Nombre: punto.py\n",
    "# Objetivo: muestra el manejo de clases en python\n",
    "# Autor: Mario Rubén Mancilla Tinoco\n",
    "# Fecha: 05/07/2019\n",
    "\n",
    "import math as math\n",
    "\n",
    "#Declarar la clase\n",
    "class Punto(object):\n",
    "    #Declarando el constructor\n",
    "    def __init__ (self, valorx, valory):\n",
    "        self.x = valorx\n",
    "        self.y = valory\n",
    "        \n",
    "    #Metodos get and set\n",
    "    def getx(self):\n",
    "        return self.x\n",
    "    \n",
    "    def gety(self):\n",
    "        return self.y\n",
    "    \n",
    "    def setx(self, valorx):\n",
    "        self.x = valorx\n",
    "        \n",
    "    def sety(self, valory):\n",
    "        self.y = valory\n",
    "        \n",
    "    def toString(self):\n",
    "        return \"El punto tiene las siguientes coordenadas: \", self.x, \" , \", self.y\n",
    "    \n",
    "#Clase herencia de punto\n",
    "class circunferencia(Punto):\n",
    "        def __init__(self, valorRadio):\n",
    "            self.radio = valorRadio\n",
    "            \n",
    "        #Metodos set and get\n",
    "        def getRadio(self):\n",
    "            return self.radio\n",
    "        def setRadio(self, valorRadio):\n",
    "            self.radio = valorRadio\n",
    "            \n",
    "        def toString(self):\n",
    "            return \"La cricunferencia tiene como centro: \", self.getx(), \" , \", self.gety(), self.getRadio(), \" el area es: \", self.getArea()\n",
    "        \n",
    "        def getArea(self):\n",
    "            return math.pi * math.pow(self.getRadio(), 2)\n",
    "        \n",
    "#Clase herencia de circunferencia\n",
    "class cilindro(circunferencia):\n",
    "    #Constructor de la clase\n",
    "    def __init__(self, valoraltura):\n",
    "        self.altura = valoraltura\n",
    "        \n",
    "    #Metodos set and get\n",
    "    def getAltura(self):\n",
    "        return self.altura\n",
    "    def setAltura(self, valoraltura):\n",
    "        self.altura = valoraltura\n",
    "        \n",
    "    def toString(self):\n",
    "        return \"El cilindro tiene una altura de: \", self.altura, \" y una circunferencia con radio de: \", self.radio, \" y un volumen de \", self.getVolumen()\n",
    "    \n",
    "    def getVolumen(self):\n",
    "        return self.getArea() * self.altura\n",
    "            \n",
    "#Metodo principal\n",
    "def main():\n",
    "    #Creamos un objeto de tipo Punto\n",
    "    coordenada = Punto(2, 3)\n",
    "    print(coordenada.toString())\n",
    "    \n",
    "    #Creamos un objeto de tipo circunferencia que hereda de la clase Punto\n",
    "    circulo = circunferencia(5)\n",
    "    circulo.setx(2)\n",
    "    circulo.sety(3)\n",
    "    print(circulo.toString())\n",
    "    \n",
    "    #Creamos un objeto de tipo cilindro que hereda de la clase cirucnferencia la cual hereda de la clase Punto\n",
    "    cilin = cilindro(4)\n",
    "    cilin.setRadio(5)\n",
    "    print(cilin.toString())\n",
    "    \n",
    "\n",
    "    \n",
    "if __name__ == \"__main__\":\n",
    "    main()"
   ]
  },
  {
   "cell_type": "markdown",
   "metadata": {},
   "source": [
    "### Clases gráficas\n",
    "\n",
    "Veamos como crear ventanas y trabajar con interfaces gráficas de usuario (GUI) en Python 3,\n",
    "usaremos la librería **tkinter** que ya viene incluido en la instalación de python, es un paquete de \n",
    "código abierto, accesible, portable y muy potente, además cuenta con varios extensiones que podemos \n",
    "usar para facilitar aun más nuestro trabajo a la hora de crear GUI.\n",
    "\n",
    "Para crear una ventana sin mas, importamos tkinter, llamando al método tk() \n",
    "obtenemos la ventana principal, para iniciar el bucle de mensajes de la ventana\n",
    "usamos mainloop()i."
   ]
  },
  {
   "cell_type": "code",
   "execution_count": 10,
   "metadata": {},
   "outputs": [],
   "source": [
    "import tkinter as tk\n",
    "root = tk.Tk()\n",
    "root.mainloop()"
   ]
  },
  {
   "cell_type": "markdown",
   "metadata": {},
   "source": [
    "Para agregar un **widget** a la ventana inicializamos una instancia de la clase que corresponda al widget que deseamos crear, como primer parametro indicamos la ventana a la que lo agregaremos, si indicamos None (por defecto) se creará una ventana a la que se asociara el **widget**.\n",
    "\n",
    "Para empezar vamos a mostrar el clásico programa hola mundo, mostraremos una ventana con una etiqueta (label) que mostrará el mensaje, al trabajar con tkinter las GUI son completamente portables a cualquier plataforma como Linux, Windows y otros."
   ]
  },
  {
   "cell_type": "code",
   "execution_count": 13,
   "metadata": {},
   "outputs": [],
   "source": [
    "import tkinter as tk\n",
    "#Importamos el tipo de widget\n",
    "from tkinter import Label\n",
    "\n",
    "#Creamos la ventana\n",
    "root = tk.Tk()\n",
    "#Modificamos el tamaño de la ventana\n",
    "root.geometry(\"800x800\")\n",
    "#Creamos la etiqueta\n",
    "widget = Label(None, text='Hola Mundo tkinter')\n",
    "#Agregamos la etiqueta a la ventana\n",
    "widget.pack()\n",
    "#Ciclo de espera de eventos\n",
    "root.mainloop()"
   ]
  },
  {
   "cell_type": "markdown",
   "metadata": {},
   "source": [
    "#### Ejercicio No 6\n",
    "Escriba una clase con tkinter que cree una centana con dos campos de texto, dos etiquetas y cuatro botones que simule la operación de una calculadora básica."
   ]
  },
  {
   "cell_type": "code",
   "execution_count": 32,
   "metadata": {},
   "outputs": [],
   "source": [
    "#Nombre: calculadora.py\n",
    "#Objetivo: simular la operación de una calculadora básica\n",
    "#Autor: Mario Rubén Mancilla Tinoco\n",
    "#Fecha: 05/07/2019\n",
    "\n",
    "#Importamos la libreria tkinter\n",
    "import tkinter as tk\n",
    "#Importamos todo de la libreria tkinter\n",
    "from tkinter import *\n",
    "\n",
    "#Metodo de sumar\n",
    "def sumar():\n",
    "    #Mandamos el resultado de la suma a la variable r\n",
    "    r.set( float(n1.get()) + float(n2.get()) )\n",
    "    borrar()\n",
    "\n",
    "#Metodo de restar\n",
    "def resta():\n",
    "    #andamos el resultado de la resta a la variable r\n",
    "    r.set( float(n1.get()) - float(n2.get()) )\n",
    "    borrar()\n",
    "\n",
    "#Metodo de multiplicacion\n",
    "def multi():\n",
    "    #andamos el resultado de la multiplicacion a la variable r\n",
    "    r.set(float(n1.get()) * float(n2.get()))\n",
    "    borrar()\n",
    "    \n",
    "#Metodo de division\n",
    "def div():\n",
    "    #andamos el resultado de la division a la variable r\n",
    "    r.set(float(n1.get()) / float(n2.get()))\n",
    "    borrar()\n",
    "\n",
    "#Metodo para limpiar los cuadros de texto\n",
    "def borrar():\n",
    "    n1.set(\"\")\n",
    "    n2.set(\"\")\n",
    "    \n",
    "#Crear la ventana\n",
    "root = tk.Tk()\n",
    "root.config(bd=20)\n",
    "\n",
    "#Declarando las varibles que se van a necesitar\n",
    "n1 = StringVar()\n",
    "n2 = StringVar()\n",
    "r = StringVar()\n",
    "\n",
    "#Etiqueta para el numero 1\n",
    "Label(root, text=\"Número 1\").pack()\n",
    "#Cuadro de entrada para teclear el valor del numero 1\n",
    "Entry(root, justify=\"center\", textvariable=n1).pack()\n",
    "\n",
    "Label(root, text=\"Número 2\").pack()\n",
    "Entry(root, justify=\"center\", textvariable=n2).pack()\n",
    "\n",
    "Label(root, text=\"Resultado\").pack()\n",
    "Entry(root, justify=\"center\", textvariable=r, state=\"disabled\").pack()\n",
    "\n",
    "Label(root, text=\"\").pack()  # Separador\n",
    "\n",
    "Button(root, text=\"Sumar\", command=sumar).pack(side=\"left\")\n",
    "Button(root, text=\"Resta\", command=resta).pack(side=\"left\")\n",
    "Button(root, text=\"Multiplicación\", command=multi).pack(side=\"left\")\n",
    "Button(root, text=\"Division\", command=div).pack(side=\"left\")\n",
    "\n",
    "# Finalmente bucle de la aplicación\n",
    "root.mainloop()"
   ]
  },
  {
   "cell_type": "code",
   "execution_count": 5,
   "metadata": {},
   "outputs": [],
   "source": [
    "#Nombre: imprimirMensaje.py\n",
    "#Objetivo: escribir un script python para colocar: una caja de texto, un boton para imprimir un mensaje en la caja de texto,\n",
    "          #un boton para borrar la caja de texto y un boton para salir del script\n",
    "#Autor: Mario Rubén Mancilla Tinoco\n",
    "#Fecha: 05/07/2019\n",
    "\n",
    "#Importamos la libreria tkinter\n",
    "import tkinter as tk\n",
    "#Importamos todo de la libreria tkinter\n",
    "from tkinter import *\n",
    "\n",
    "#Metodo de sumar\n",
    "def imprimir():\n",
    "    #Mandamos el resultado de la suma a la variable r\n",
    "    txt.set(\"Hola mundo\")\n",
    "\n",
    "#Metodo para limpiar los cuadros de texto\n",
    "def limpiar():\n",
    "    txt.set(\"\")\n",
    "    \n",
    "#Metodo para salir\n",
    "def salir():\n",
    "    root.destroy()\n",
    "    \n",
    "#Crear la ventana\n",
    "root = tk.Tk()\n",
    "root.config(bd=10)\n",
    "root.title(\"Imprimir un mensaje\")\n",
    "\n",
    "#Declarando las varibles que se van a necesitar\n",
    "txt = StringVar()\n",
    "\n",
    "#Etiqueta para el numero 1\n",
    "Label(root, text=\"Caja de Texto\").pack()\n",
    "#Cuadro de entrada para teclear el valor del numero 1\n",
    "Entry(root, justify=\"center\", textvariable=txt).pack()\n",
    "\n",
    "Label(root, text=\"\").pack()  # Separador\n",
    "\n",
    "#Lista de botones en donde se le asigna en cual ventana salir, el texto que tendra y que metodo ejecutar al activarse\n",
    "Button(root, text=\"Imprimir Texto\", command=imprimir).pack(side=\"left\")\n",
    "Button(root, text=\"Limpiar\", command=limpiar).pack(side=\"left\")\n",
    "Button(root, text=\"Salir\", command=salir).pack(side=\"left\")\n",
    "\n",
    "# Finalmente bucle de la aplicación\n",
    "root.mainloop()"
   ]
  },
  {
   "cell_type": "code",
   "execution_count": null,
   "metadata": {},
   "outputs": [],
   "source": []
  }
 ],
 "metadata": {
  "kernelspec": {
   "display_name": "Python 3",
   "language": "python",
   "name": "python3"
  },
  "language_info": {
   "codemirror_mode": {
    "name": "ipython",
    "version": 3
   },
   "file_extension": ".py",
   "mimetype": "text/x-python",
   "name": "python",
   "nbconvert_exporter": "python",
   "pygments_lexer": "ipython3",
   "version": "3.7.3"
  }
 },
 "nbformat": 4,
 "nbformat_minor": 2
}
